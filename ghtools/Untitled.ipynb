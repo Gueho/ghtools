{
 "cells": [
  {
   "cell_type": "code",
   "execution_count": 5,
   "id": "898928ef",
   "metadata": {},
   "outputs": [],
   "source": [
    "def preprocess():\n",
    "    '''preprocess cat/num features'''\n",
    "    import numpy as np\n",
    "    import pandas as pd\n",
    "    \n",
    "    from sklearn.pipeline import Pipeline\n",
    "    from sklearn.compose import ColumnTransformer\n",
    "    from sklearn.impute import SimpleImputer\n",
    "    from sklearn.preprocessing import StandardScaler, OneHotEncoder\n",
    "\n",
    "    num_transformer = Pipeline([('imputer', SimpleImputer()),\n",
    "                                ('scaler', StandardScaler())])\n",
    "    cat_transformer = OneHotEncoder(handle_unknown='ignore')\n",
    "\n",
    "    preprocessor = ColumnTransformer([\n",
    "        (\"num_tr\", num_transformer, selector(dtype_exclude = 'category')),\n",
    "        (\"cat_tr\", cat_transformer, selector(dtype_include = 'category'))])\n",
    "\n",
    "    return preprocessor\n"
   ]
  },
  {
   "cell_type": "code",
   "execution_count": 9,
   "id": "93d23d64",
   "metadata": {},
   "outputs": [],
   "source": [
    "def make_pipe(type = 'Regression'):\n",
    "    '''make a whole pipeline with Regression/Classification'''\n",
    "    preproc = preprocess()\n",
    "    \n",
    "    from sklearn.linear_model import SGDRegressor, SGDClassifier\n",
    "    \n",
    "    if type == 'Regression':\n",
    "        pipe = Pipeline([\n",
    "            ('preprocess', preproc),\n",
    "        ('Regress', SGDRegressor())])\n",
    "    \n",
    "    if type == 'Classification':\n",
    "        pipe = Pipeline([\n",
    "            ('preprocess', preproc),\n",
    "        ('Classify', SGDClassifier())])\n",
    "    \n",
    "    return pipe\n",
    "    \n",
    "    "
   ]
  },
  {
   "cell_type": "code",
   "execution_count": 10,
   "id": "f6aab9c7",
   "metadata": {},
   "outputs": [],
   "source": [
    "def predict(X_train, y_train, X_test, type = 'Regression'):\n",
    "    pipe = make_pipe(type = 'Regression')\n",
    "    \n",
    "    pipe.fit(X_train, y_train)\n",
    "    prediction = pipe.predict(X_test)\n",
    "    \n",
    "    return prediction"
   ]
  },
  {
   "cell_type": "code",
   "execution_count": null,
   "id": "42a952d4",
   "metadata": {},
   "outputs": [],
   "source": []
  }
 ],
 "metadata": {
  "kernelspec": {
   "display_name": "Python 3 (ipykernel)",
   "language": "python",
   "name": "python3"
  },
  "language_info": {
   "codemirror_mode": {
    "name": "ipython",
    "version": 3
   },
   "file_extension": ".py",
   "mimetype": "text/x-python",
   "name": "python",
   "nbconvert_exporter": "python",
   "pygments_lexer": "ipython3",
   "version": "3.8.12"
  },
  "toc": {
   "base_numbering": 1,
   "nav_menu": {},
   "number_sections": true,
   "sideBar": true,
   "skip_h1_title": false,
   "title_cell": "Table of Contents",
   "title_sidebar": "Contents",
   "toc_cell": false,
   "toc_position": {},
   "toc_section_display": true,
   "toc_window_display": false
  }
 },
 "nbformat": 4,
 "nbformat_minor": 5
}
