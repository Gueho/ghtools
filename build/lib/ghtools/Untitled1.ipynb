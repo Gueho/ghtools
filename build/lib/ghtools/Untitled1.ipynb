{
 "cells": [
  {
   "cell_type": "code",
   "execution_count": 40,
   "id": "9586e53a",
   "metadata": {},
   "outputs": [],
   "source": [
    "url = \"https://wagon-public-datasets.s3.amazonaws.com/Machine%20Learning%20Datasets/ML_Cars_Recap_dataset.csv\"\n",
    "\n",
    "import numpy as np\n",
    "import pandas as pd\n",
    "df = pd.read_csv(url)\n",
    "X = df.drop(columns = 'price')\n",
    "y = df[['price']]\n",
    "from sklearn.model_selection import train_test_split\n",
    "X_train, X_test, y_train, y_test = train_test_split(X, y)"
   ]
  },
  {
   "cell_type": "code",
   "execution_count": 2,
   "id": "a89fb70b",
   "metadata": {},
   "outputs": [
    {
     "data": {
      "text/html": [
       "<div>\n",
       "<style scoped>\n",
       "    .dataframe tbody tr th:only-of-type {\n",
       "        vertical-align: middle;\n",
       "    }\n",
       "\n",
       "    .dataframe tbody tr th {\n",
       "        vertical-align: top;\n",
       "    }\n",
       "\n",
       "    .dataframe thead th {\n",
       "        text-align: right;\n",
       "    }\n",
       "</style>\n",
       "<table border=\"1\" class=\"dataframe\">\n",
       "  <thead>\n",
       "    <tr style=\"text-align: right;\">\n",
       "      <th></th>\n",
       "      <th>aspiration</th>\n",
       "      <th>carwidth</th>\n",
       "      <th>curbweight</th>\n",
       "      <th>enginetype</th>\n",
       "      <th>cylindernumber</th>\n",
       "      <th>stroke</th>\n",
       "      <th>peakrpm</th>\n",
       "    </tr>\n",
       "  </thead>\n",
       "  <tbody>\n",
       "    <tr>\n",
       "      <th>88</th>\n",
       "      <td>std</td>\n",
       "      <td>65.4</td>\n",
       "      <td>2403.0</td>\n",
       "      <td>ohc</td>\n",
       "      <td>four</td>\n",
       "      <td>3.46</td>\n",
       "      <td>5500.0</td>\n",
       "    </tr>\n",
       "    <tr>\n",
       "      <th>188</th>\n",
       "      <td>std</td>\n",
       "      <td>65.5</td>\n",
       "      <td>2300.0</td>\n",
       "      <td>ohc</td>\n",
       "      <td>four</td>\n",
       "      <td>3.40</td>\n",
       "      <td>5500.0</td>\n",
       "    </tr>\n",
       "    <tr>\n",
       "      <th>149</th>\n",
       "      <td>turbo</td>\n",
       "      <td>65.4</td>\n",
       "      <td>2650.0</td>\n",
       "      <td>ohcf</td>\n",
       "      <td>four</td>\n",
       "      <td>2.64</td>\n",
       "      <td>4800.0</td>\n",
       "    </tr>\n",
       "    <tr>\n",
       "      <th>27</th>\n",
       "      <td>turbo</td>\n",
       "      <td>63.8</td>\n",
       "      <td>2191.0</td>\n",
       "      <td>ohc</td>\n",
       "      <td>four</td>\n",
       "      <td>3.39</td>\n",
       "      <td>5500.0</td>\n",
       "    </tr>\n",
       "    <tr>\n",
       "      <th>1</th>\n",
       "      <td>std</td>\n",
       "      <td>64.1</td>\n",
       "      <td>2548.0</td>\n",
       "      <td>dohc</td>\n",
       "      <td>four</td>\n",
       "      <td>2.68</td>\n",
       "      <td>5000.0</td>\n",
       "    </tr>\n",
       "  </tbody>\n",
       "</table>\n",
       "</div>"
      ],
      "text/plain": [
       "    aspiration  carwidth  curbweight enginetype cylindernumber  stroke  \\\n",
       "88         std      65.4      2403.0        ohc           four    3.46   \n",
       "188        std      65.5      2300.0        ohc           four    3.40   \n",
       "149      turbo      65.4      2650.0       ohcf           four    2.64   \n",
       "27       turbo      63.8      2191.0        ohc           four    3.39   \n",
       "1          std      64.1      2548.0       dohc           four    2.68   \n",
       "\n",
       "     peakrpm  \n",
       "88    5500.0  \n",
       "188   5500.0  \n",
       "149   4800.0  \n",
       "27    5500.0  \n",
       "1     5000.0  "
      ]
     },
     "execution_count": 2,
     "metadata": {},
     "output_type": "execute_result"
    }
   ],
   "source": [
    "X_train.head()\n"
   ]
  },
  {
   "cell_type": "code",
   "execution_count": 35,
   "id": "f12a711f",
   "metadata": {},
   "outputs": [
    {
     "data": {
      "text/plain": [
       "aspiration         object\n",
       "carwidth          float64\n",
       "curbweight        float64\n",
       "enginetype         object\n",
       "cylindernumber     object\n",
       "stroke            float64\n",
       "peakrpm           float64\n",
       "dtype: object"
      ]
     },
     "execution_count": 35,
     "metadata": {},
     "output_type": "execute_result"
    }
   ],
   "source": [
    "X_train.dtypes"
   ]
  },
  {
   "cell_type": "code",
   "execution_count": 41,
   "id": "86aed1bf",
   "metadata": {},
   "outputs": [
    {
     "data": {
      "text/html": [
       "<div>\n",
       "<style scoped>\n",
       "    .dataframe tbody tr th:only-of-type {\n",
       "        vertical-align: middle;\n",
       "    }\n",
       "\n",
       "    .dataframe tbody tr th {\n",
       "        vertical-align: top;\n",
       "    }\n",
       "\n",
       "    .dataframe thead th {\n",
       "        text-align: right;\n",
       "    }\n",
       "</style>\n",
       "<table border=\"1\" class=\"dataframe\">\n",
       "  <thead>\n",
       "    <tr style=\"text-align: right;\">\n",
       "      <th></th>\n",
       "      <th>price</th>\n",
       "    </tr>\n",
       "  </thead>\n",
       "  <tbody>\n",
       "    <tr>\n",
       "      <th>187</th>\n",
       "      <td>expensive</td>\n",
       "    </tr>\n",
       "    <tr>\n",
       "      <th>107</th>\n",
       "      <td>expensive</td>\n",
       "    </tr>\n",
       "    <tr>\n",
       "      <th>81</th>\n",
       "      <td>cheap</td>\n",
       "    </tr>\n",
       "    <tr>\n",
       "      <th>85</th>\n",
       "      <td>cheap</td>\n",
       "    </tr>\n",
       "    <tr>\n",
       "      <th>132</th>\n",
       "      <td>expensive</td>\n",
       "    </tr>\n",
       "  </tbody>\n",
       "</table>\n",
       "</div>"
      ],
      "text/plain": [
       "         price\n",
       "187  expensive\n",
       "107  expensive\n",
       "81       cheap\n",
       "85       cheap\n",
       "132  expensive"
      ]
     },
     "execution_count": 41,
     "metadata": {},
     "output_type": "execute_result"
    }
   ],
   "source": [
    "y_train.head()\n",
    "\n"
   ]
  },
  {
   "cell_type": "code",
   "execution_count": 5,
   "id": "60bca062",
   "metadata": {},
   "outputs": [
    {
     "ename": "ModuleNotFoundError",
     "evalue": "No module named 'ghtools.predictor'",
     "output_type": "error",
     "traceback": [
      "\u001b[0;31m---------------------------------------------------------------------------\u001b[0m",
      "\u001b[0;31mModuleNotFoundError\u001b[0m                       Traceback (most recent call last)",
      "\u001b[0;32m/var/folders/jz/94btlb3535x_2tksxw15dt7c0000gn/T/ipykernel_70929/2267719953.py\u001b[0m in \u001b[0;36m<module>\u001b[0;34m\u001b[0m\n\u001b[0;32m----> 1\u001b[0;31m \u001b[0;32mfrom\u001b[0m \u001b[0mghtools\u001b[0m\u001b[0;34m.\u001b[0m\u001b[0mpredictor\u001b[0m \u001b[0;32mimport\u001b[0m \u001b[0mpredict\u001b[0m\u001b[0;34m\u001b[0m\u001b[0;34m\u001b[0m\u001b[0m\n\u001b[0m",
      "\u001b[0;31mModuleNotFoundError\u001b[0m: No module named 'ghtools.predictor'"
     ]
    }
   ],
   "source": [
    "from ghtools.predictor import predict\n",
    "predict(X_train, y_train, X_test)\n"
   ]
  },
  {
   "cell_type": "code",
   "execution_count": 13,
   "id": "9697cfd0",
   "metadata": {},
   "outputs": [
    {
     "data": {
      "text/plain": [
       "(153, 7)"
      ]
     },
     "execution_count": 13,
     "metadata": {},
     "output_type": "execute_result"
    }
   ],
   "source": [
    "X_train.shape"
   ]
  },
  {
   "cell_type": "code",
   "execution_count": 49,
   "id": "e6d20239",
   "metadata": {},
   "outputs": [],
   "source": [
    "y_train.price = y_train.price.apply(lambda x : 1 if x == 'expensive' else 0)"
   ]
  },
  {
   "cell_type": "code",
   "execution_count": 50,
   "id": "a907a819",
   "metadata": {},
   "outputs": [
    {
     "data": {
      "text/html": [
       "<div>\n",
       "<style scoped>\n",
       "    .dataframe tbody tr th:only-of-type {\n",
       "        vertical-align: middle;\n",
       "    }\n",
       "\n",
       "    .dataframe tbody tr th {\n",
       "        vertical-align: top;\n",
       "    }\n",
       "\n",
       "    .dataframe thead th {\n",
       "        text-align: right;\n",
       "    }\n",
       "</style>\n",
       "<table border=\"1\" class=\"dataframe\">\n",
       "  <thead>\n",
       "    <tr style=\"text-align: right;\">\n",
       "      <th></th>\n",
       "      <th>price</th>\n",
       "    </tr>\n",
       "  </thead>\n",
       "  <tbody>\n",
       "    <tr>\n",
       "      <th>187</th>\n",
       "      <td>1</td>\n",
       "    </tr>\n",
       "    <tr>\n",
       "      <th>107</th>\n",
       "      <td>1</td>\n",
       "    </tr>\n",
       "    <tr>\n",
       "      <th>81</th>\n",
       "      <td>0</td>\n",
       "    </tr>\n",
       "    <tr>\n",
       "      <th>85</th>\n",
       "      <td>0</td>\n",
       "    </tr>\n",
       "    <tr>\n",
       "      <th>132</th>\n",
       "      <td>1</td>\n",
       "    </tr>\n",
       "    <tr>\n",
       "      <th>...</th>\n",
       "      <td>...</td>\n",
       "    </tr>\n",
       "    <tr>\n",
       "      <th>150</th>\n",
       "      <td>0</td>\n",
       "    </tr>\n",
       "    <tr>\n",
       "      <th>169</th>\n",
       "      <td>1</td>\n",
       "    </tr>\n",
       "    <tr>\n",
       "      <th>20</th>\n",
       "      <td>0</td>\n",
       "    </tr>\n",
       "    <tr>\n",
       "      <th>45</th>\n",
       "      <td>0</td>\n",
       "    </tr>\n",
       "    <tr>\n",
       "      <th>41</th>\n",
       "      <td>1</td>\n",
       "    </tr>\n",
       "  </tbody>\n",
       "</table>\n",
       "<p>153 rows × 1 columns</p>\n",
       "</div>"
      ],
      "text/plain": [
       "     price\n",
       "187      1\n",
       "107      1\n",
       "81       0\n",
       "85       0\n",
       "132      1\n",
       "..     ...\n",
       "150      0\n",
       "169      1\n",
       "20       0\n",
       "45       0\n",
       "41       1\n",
       "\n",
       "[153 rows x 1 columns]"
      ]
     },
     "execution_count": 50,
     "metadata": {},
     "output_type": "execute_result"
    }
   ],
   "source": [
    "y_train"
   ]
  },
  {
   "cell_type": "code",
   "execution_count": 36,
   "id": "1c06367a",
   "metadata": {},
   "outputs": [],
   "source": [
    "def preprocess():\n",
    "    '''preprocess cat/num features'''\n",
    "    import numpy as np\n",
    "    import pandas as pd\n",
    "\n",
    "    from sklearn.pipeline import Pipeline\n",
    "    from sklearn.compose import ColumnTransformer\n",
    "    from sklearn.impute import SimpleImputer\n",
    "    from sklearn.preprocessing import StandardScaler, OneHotEncoder\n",
    "    from sklearn.compose import make_column_selector as selector\n",
    "\n",
    "    num_transformer = Pipeline([('imputer', SimpleImputer()),\n",
    "                                ('scaler', StandardScaler())])\n",
    "    cat_transformer = OneHotEncoder(handle_unknown = 'ignore')\n",
    "\n",
    "    preprocessor = ColumnTransformer([\n",
    "        (\"num_tr\", num_transformer, selector(dtype_exclude = object)),\n",
    "        (\"cat_tr\", cat_transformer, selector(dtype_include = object))],\n",
    "    remainder = 'passthrough')\n",
    "\n",
    "    return preprocessor\n",
    "\n",
    "def make_pipe(type = 'Regression'):\n",
    "    '''make a whole pipeline with Regression/Classification'''\n",
    "    preproc = preprocess()\n",
    "\n",
    "    from sklearn.linear_model import SGDRegressor, SGDClassifier\n",
    "    from sklearn.pipeline import Pipeline\n",
    "\n",
    "    if type == 'Regression':\n",
    "        pipe = Pipeline([\n",
    "            ('preprocess', preproc),\n",
    "        ('Regress', SGDRegressor())])\n",
    "\n",
    "    if type == 'Classification':\n",
    "        pipe = Pipeline([\n",
    "            ('preprocess', preproc),\n",
    "        ('Classify', SGDClassifier())])\n",
    "\n",
    "    return pipe\n",
    "\n",
    "def predict(X_train, y_train, X_test, type = 'Regression'):\n",
    "    pipe = make_pipe(type = 'Regression')\n",
    "\n",
    "    pipe.fit(X_train, y_train)\n",
    "    prediction = pipe.predict(X_test)\n",
    "\n",
    "    return prediction"
   ]
  },
  {
   "cell_type": "code",
   "execution_count": 42,
   "id": "876dfb25",
   "metadata": {},
   "outputs": [],
   "source": [
    "pipe = make_pipe('Classification')\n"
   ]
  },
  {
   "cell_type": "code",
   "execution_count": 43,
   "id": "cab4770f",
   "metadata": {
    "scrolled": true
   },
   "outputs": [
    {
     "data": {
      "text/html": [
       "<style>#sk-80fd27f6-361f-46a4-8fbe-5596c7d8c3ed {color: black;background-color: white;}#sk-80fd27f6-361f-46a4-8fbe-5596c7d8c3ed pre{padding: 0;}#sk-80fd27f6-361f-46a4-8fbe-5596c7d8c3ed div.sk-toggleable {background-color: white;}#sk-80fd27f6-361f-46a4-8fbe-5596c7d8c3ed label.sk-toggleable__label {cursor: pointer;display: block;width: 100%;margin-bottom: 0;padding: 0.3em;box-sizing: border-box;text-align: center;}#sk-80fd27f6-361f-46a4-8fbe-5596c7d8c3ed label.sk-toggleable__label-arrow:before {content: \"▸\";float: left;margin-right: 0.25em;color: #696969;}#sk-80fd27f6-361f-46a4-8fbe-5596c7d8c3ed label.sk-toggleable__label-arrow:hover:before {color: black;}#sk-80fd27f6-361f-46a4-8fbe-5596c7d8c3ed div.sk-estimator:hover label.sk-toggleable__label-arrow:before {color: black;}#sk-80fd27f6-361f-46a4-8fbe-5596c7d8c3ed div.sk-toggleable__content {max-height: 0;max-width: 0;overflow: hidden;text-align: left;background-color: #f0f8ff;}#sk-80fd27f6-361f-46a4-8fbe-5596c7d8c3ed div.sk-toggleable__content pre {margin: 0.2em;color: black;border-radius: 0.25em;background-color: #f0f8ff;}#sk-80fd27f6-361f-46a4-8fbe-5596c7d8c3ed input.sk-toggleable__control:checked~div.sk-toggleable__content {max-height: 200px;max-width: 100%;overflow: auto;}#sk-80fd27f6-361f-46a4-8fbe-5596c7d8c3ed input.sk-toggleable__control:checked~label.sk-toggleable__label-arrow:before {content: \"▾\";}#sk-80fd27f6-361f-46a4-8fbe-5596c7d8c3ed div.sk-estimator input.sk-toggleable__control:checked~label.sk-toggleable__label {background-color: #d4ebff;}#sk-80fd27f6-361f-46a4-8fbe-5596c7d8c3ed div.sk-label input.sk-toggleable__control:checked~label.sk-toggleable__label {background-color: #d4ebff;}#sk-80fd27f6-361f-46a4-8fbe-5596c7d8c3ed input.sk-hidden--visually {border: 0;clip: rect(1px 1px 1px 1px);clip: rect(1px, 1px, 1px, 1px);height: 1px;margin: -1px;overflow: hidden;padding: 0;position: absolute;width: 1px;}#sk-80fd27f6-361f-46a4-8fbe-5596c7d8c3ed div.sk-estimator {font-family: monospace;background-color: #f0f8ff;border: 1px dotted black;border-radius: 0.25em;box-sizing: border-box;margin-bottom: 0.5em;}#sk-80fd27f6-361f-46a4-8fbe-5596c7d8c3ed div.sk-estimator:hover {background-color: #d4ebff;}#sk-80fd27f6-361f-46a4-8fbe-5596c7d8c3ed div.sk-parallel-item::after {content: \"\";width: 100%;border-bottom: 1px solid gray;flex-grow: 1;}#sk-80fd27f6-361f-46a4-8fbe-5596c7d8c3ed div.sk-label:hover label.sk-toggleable__label {background-color: #d4ebff;}#sk-80fd27f6-361f-46a4-8fbe-5596c7d8c3ed div.sk-serial::before {content: \"\";position: absolute;border-left: 1px solid gray;box-sizing: border-box;top: 2em;bottom: 0;left: 50%;}#sk-80fd27f6-361f-46a4-8fbe-5596c7d8c3ed div.sk-serial {display: flex;flex-direction: column;align-items: center;background-color: white;padding-right: 0.2em;padding-left: 0.2em;}#sk-80fd27f6-361f-46a4-8fbe-5596c7d8c3ed div.sk-item {z-index: 1;}#sk-80fd27f6-361f-46a4-8fbe-5596c7d8c3ed div.sk-parallel {display: flex;align-items: stretch;justify-content: center;background-color: white;}#sk-80fd27f6-361f-46a4-8fbe-5596c7d8c3ed div.sk-parallel::before {content: \"\";position: absolute;border-left: 1px solid gray;box-sizing: border-box;top: 2em;bottom: 0;left: 50%;}#sk-80fd27f6-361f-46a4-8fbe-5596c7d8c3ed div.sk-parallel-item {display: flex;flex-direction: column;position: relative;background-color: white;}#sk-80fd27f6-361f-46a4-8fbe-5596c7d8c3ed div.sk-parallel-item:first-child::after {align-self: flex-end;width: 50%;}#sk-80fd27f6-361f-46a4-8fbe-5596c7d8c3ed div.sk-parallel-item:last-child::after {align-self: flex-start;width: 50%;}#sk-80fd27f6-361f-46a4-8fbe-5596c7d8c3ed div.sk-parallel-item:only-child::after {width: 0;}#sk-80fd27f6-361f-46a4-8fbe-5596c7d8c3ed div.sk-dashed-wrapped {border: 1px dashed gray;margin: 0 0.4em 0.5em 0.4em;box-sizing: border-box;padding-bottom: 0.4em;background-color: white;position: relative;}#sk-80fd27f6-361f-46a4-8fbe-5596c7d8c3ed div.sk-label label {font-family: monospace;font-weight: bold;background-color: white;display: inline-block;line-height: 1.2em;}#sk-80fd27f6-361f-46a4-8fbe-5596c7d8c3ed div.sk-label-container {position: relative;z-index: 2;text-align: center;}#sk-80fd27f6-361f-46a4-8fbe-5596c7d8c3ed div.sk-container {/* jupyter's `normalize.less` sets `[hidden] { display: none; }` but bootstrap.min.css set `[hidden] { display: none !important; }` so we also need the `!important` here to be able to override the default hidden behavior on the sphinx rendered scikit-learn.org. See: https://github.com/scikit-learn/scikit-learn/issues/21755 */display: inline-block !important;position: relative;}#sk-80fd27f6-361f-46a4-8fbe-5596c7d8c3ed div.sk-text-repr-fallback {display: none;}</style><div id=\"sk-80fd27f6-361f-46a4-8fbe-5596c7d8c3ed\" class=\"sk-top-container\"><div class=\"sk-text-repr-fallback\"><pre>Pipeline(steps=[(&#x27;preprocess&#x27;,\n",
       "                 ColumnTransformer(remainder=&#x27;passthrough&#x27;,\n",
       "                                   transformers=[(&#x27;num_tr&#x27;,\n",
       "                                                  Pipeline(steps=[(&#x27;imputer&#x27;,\n",
       "                                                                   SimpleImputer()),\n",
       "                                                                  (&#x27;scaler&#x27;,\n",
       "                                                                   StandardScaler())]),\n",
       "                                                  &lt;sklearn.compose._column_transformer.make_column_selector object at 0x17de92dc0&gt;),\n",
       "                                                 (&#x27;cat_tr&#x27;,\n",
       "                                                  OneHotEncoder(handle_unknown=&#x27;ignore&#x27;),\n",
       "                                                  &lt;sklearn.compose._column_transformer.make_column_selector object at 0x17de92310&gt;)])),\n",
       "                (&#x27;Classify&#x27;, SGDClassifier())])</pre><b>Please rerun this cell to show the HTML repr or trust the notebook.</b></div><div class=\"sk-container\" hidden><div class=\"sk-item sk-dashed-wrapped\"><div class=\"sk-label-container\"><div class=\"sk-label sk-toggleable\"><input class=\"sk-toggleable__control sk-hidden--visually\" id=\"5afdfb33-7528-4f86-82fc-3eeb2dfc5669\" type=\"checkbox\" ><label for=\"5afdfb33-7528-4f86-82fc-3eeb2dfc5669\" class=\"sk-toggleable__label sk-toggleable__label-arrow\">Pipeline</label><div class=\"sk-toggleable__content\"><pre>Pipeline(steps=[(&#x27;preprocess&#x27;,\n",
       "                 ColumnTransformer(remainder=&#x27;passthrough&#x27;,\n",
       "                                   transformers=[(&#x27;num_tr&#x27;,\n",
       "                                                  Pipeline(steps=[(&#x27;imputer&#x27;,\n",
       "                                                                   SimpleImputer()),\n",
       "                                                                  (&#x27;scaler&#x27;,\n",
       "                                                                   StandardScaler())]),\n",
       "                                                  &lt;sklearn.compose._column_transformer.make_column_selector object at 0x17de92dc0&gt;),\n",
       "                                                 (&#x27;cat_tr&#x27;,\n",
       "                                                  OneHotEncoder(handle_unknown=&#x27;ignore&#x27;),\n",
       "                                                  &lt;sklearn.compose._column_transformer.make_column_selector object at 0x17de92310&gt;)])),\n",
       "                (&#x27;Classify&#x27;, SGDClassifier())])</pre></div></div></div><div class=\"sk-serial\"><div class=\"sk-item sk-dashed-wrapped\"><div class=\"sk-label-container\"><div class=\"sk-label sk-toggleable\"><input class=\"sk-toggleable__control sk-hidden--visually\" id=\"5b0bc4f0-8491-45b8-924c-6daad9da858d\" type=\"checkbox\" ><label for=\"5b0bc4f0-8491-45b8-924c-6daad9da858d\" class=\"sk-toggleable__label sk-toggleable__label-arrow\">preprocess: ColumnTransformer</label><div class=\"sk-toggleable__content\"><pre>ColumnTransformer(remainder=&#x27;passthrough&#x27;,\n",
       "                  transformers=[(&#x27;num_tr&#x27;,\n",
       "                                 Pipeline(steps=[(&#x27;imputer&#x27;, SimpleImputer()),\n",
       "                                                 (&#x27;scaler&#x27;, StandardScaler())]),\n",
       "                                 &lt;sklearn.compose._column_transformer.make_column_selector object at 0x17de92dc0&gt;),\n",
       "                                (&#x27;cat_tr&#x27;,\n",
       "                                 OneHotEncoder(handle_unknown=&#x27;ignore&#x27;),\n",
       "                                 &lt;sklearn.compose._column_transformer.make_column_selector object at 0x17de92310&gt;)])</pre></div></div></div><div class=\"sk-parallel\"><div class=\"sk-parallel-item\"><div class=\"sk-item\"><div class=\"sk-label-container\"><div class=\"sk-label sk-toggleable\"><input class=\"sk-toggleable__control sk-hidden--visually\" id=\"64735a1c-0425-4807-8857-d975a314e7fa\" type=\"checkbox\" ><label for=\"64735a1c-0425-4807-8857-d975a314e7fa\" class=\"sk-toggleable__label sk-toggleable__label-arrow\">num_tr</label><div class=\"sk-toggleable__content\"><pre>&lt;sklearn.compose._column_transformer.make_column_selector object at 0x17de92dc0&gt;</pre></div></div></div><div class=\"sk-serial\"><div class=\"sk-item\"><div class=\"sk-serial\"><div class=\"sk-item\"><div class=\"sk-estimator sk-toggleable\"><input class=\"sk-toggleable__control sk-hidden--visually\" id=\"fa6257c0-2676-4c2d-bafe-9da02fa4126b\" type=\"checkbox\" ><label for=\"fa6257c0-2676-4c2d-bafe-9da02fa4126b\" class=\"sk-toggleable__label sk-toggleable__label-arrow\">SimpleImputer</label><div class=\"sk-toggleable__content\"><pre>SimpleImputer()</pre></div></div></div><div class=\"sk-item\"><div class=\"sk-estimator sk-toggleable\"><input class=\"sk-toggleable__control sk-hidden--visually\" id=\"e77e92aa-e344-44d3-84ec-daf7b522545a\" type=\"checkbox\" ><label for=\"e77e92aa-e344-44d3-84ec-daf7b522545a\" class=\"sk-toggleable__label sk-toggleable__label-arrow\">StandardScaler</label><div class=\"sk-toggleable__content\"><pre>StandardScaler()</pre></div></div></div></div></div></div></div></div><div class=\"sk-parallel-item\"><div class=\"sk-item\"><div class=\"sk-label-container\"><div class=\"sk-label sk-toggleable\"><input class=\"sk-toggleable__control sk-hidden--visually\" id=\"ff1d14ff-8afe-46f2-ace3-7c4bfcc1a2e3\" type=\"checkbox\" ><label for=\"ff1d14ff-8afe-46f2-ace3-7c4bfcc1a2e3\" class=\"sk-toggleable__label sk-toggleable__label-arrow\">cat_tr</label><div class=\"sk-toggleable__content\"><pre>&lt;sklearn.compose._column_transformer.make_column_selector object at 0x17de92310&gt;</pre></div></div></div><div class=\"sk-serial\"><div class=\"sk-item\"><div class=\"sk-estimator sk-toggleable\"><input class=\"sk-toggleable__control sk-hidden--visually\" id=\"0c04190b-a7c7-4e37-974a-c0ca068bffd9\" type=\"checkbox\" ><label for=\"0c04190b-a7c7-4e37-974a-c0ca068bffd9\" class=\"sk-toggleable__label sk-toggleable__label-arrow\">OneHotEncoder</label><div class=\"sk-toggleable__content\"><pre>OneHotEncoder(handle_unknown=&#x27;ignore&#x27;)</pre></div></div></div></div></div></div><div class=\"sk-parallel-item\"><div class=\"sk-item\"><div class=\"sk-label-container\"><div class=\"sk-label sk-toggleable\"><input class=\"sk-toggleable__control sk-hidden--visually\" id=\"ad694076-dfe7-4505-acd9-028753780ec6\" type=\"checkbox\" ><label for=\"ad694076-dfe7-4505-acd9-028753780ec6\" class=\"sk-toggleable__label sk-toggleable__label-arrow\">remainder</label><div class=\"sk-toggleable__content\"><pre></pre></div></div></div><div class=\"sk-serial\"><div class=\"sk-item\"><div class=\"sk-estimator sk-toggleable\"><input class=\"sk-toggleable__control sk-hidden--visually\" id=\"e811a259-5410-4cde-884d-060ed6ca3c8e\" type=\"checkbox\" ><label for=\"e811a259-5410-4cde-884d-060ed6ca3c8e\" class=\"sk-toggleable__label sk-toggleable__label-arrow\">passthrough</label><div class=\"sk-toggleable__content\"><pre>passthrough</pre></div></div></div></div></div></div></div></div><div class=\"sk-item\"><div class=\"sk-estimator sk-toggleable\"><input class=\"sk-toggleable__control sk-hidden--visually\" id=\"ae1e78f0-1676-4e83-90d8-b644d1b0891e\" type=\"checkbox\" ><label for=\"ae1e78f0-1676-4e83-90d8-b644d1b0891e\" class=\"sk-toggleable__label sk-toggleable__label-arrow\">SGDClassifier</label><div class=\"sk-toggleable__content\"><pre>SGDClassifier()</pre></div></div></div></div></div></div></div>"
      ],
      "text/plain": [
       "Pipeline(steps=[('preprocess',\n",
       "                 ColumnTransformer(remainder='passthrough',\n",
       "                                   transformers=[('num_tr',\n",
       "                                                  Pipeline(steps=[('imputer',\n",
       "                                                                   SimpleImputer()),\n",
       "                                                                  ('scaler',\n",
       "                                                                   StandardScaler())]),\n",
       "                                                  <sklearn.compose._column_transformer.make_column_selector object at 0x17de92dc0>),\n",
       "                                                 ('cat_tr',\n",
       "                                                  OneHotEncoder(handle_unknown='ignore'),\n",
       "                                                  <sklearn.compose._column_transformer.make_column_selector object at 0x17de92310>)])),\n",
       "                ('Classify', SGDClassifier())])"
      ]
     },
     "execution_count": 43,
     "metadata": {},
     "output_type": "execute_result"
    }
   ],
   "source": [
    "from sklearn import set_config; set_config(display='diagram')\n",
    "pipe"
   ]
  },
  {
   "cell_type": "code",
   "execution_count": 44,
   "id": "9e3e71c5",
   "metadata": {},
   "outputs": [
    {
     "name": "stderr",
     "output_type": "stream",
     "text": [
      "/Users/guehojang/.pyenv/versions/3.8.12/envs/lewagon/lib/python3.8/site-packages/sklearn/utils/validation.py:993: DataConversionWarning: A column-vector y was passed when a 1d array was expected. Please change the shape of y to (n_samples, ), for example using ravel().\n",
      "  y = column_or_1d(y, warn=True)\n"
     ]
    },
    {
     "data": {
      "text/html": [
       "<style>#sk-f724af24-293f-464b-895a-92af03e7a7fb {color: black;background-color: white;}#sk-f724af24-293f-464b-895a-92af03e7a7fb pre{padding: 0;}#sk-f724af24-293f-464b-895a-92af03e7a7fb div.sk-toggleable {background-color: white;}#sk-f724af24-293f-464b-895a-92af03e7a7fb label.sk-toggleable__label {cursor: pointer;display: block;width: 100%;margin-bottom: 0;padding: 0.3em;box-sizing: border-box;text-align: center;}#sk-f724af24-293f-464b-895a-92af03e7a7fb label.sk-toggleable__label-arrow:before {content: \"▸\";float: left;margin-right: 0.25em;color: #696969;}#sk-f724af24-293f-464b-895a-92af03e7a7fb label.sk-toggleable__label-arrow:hover:before {color: black;}#sk-f724af24-293f-464b-895a-92af03e7a7fb div.sk-estimator:hover label.sk-toggleable__label-arrow:before {color: black;}#sk-f724af24-293f-464b-895a-92af03e7a7fb div.sk-toggleable__content {max-height: 0;max-width: 0;overflow: hidden;text-align: left;background-color: #f0f8ff;}#sk-f724af24-293f-464b-895a-92af03e7a7fb div.sk-toggleable__content pre {margin: 0.2em;color: black;border-radius: 0.25em;background-color: #f0f8ff;}#sk-f724af24-293f-464b-895a-92af03e7a7fb input.sk-toggleable__control:checked~div.sk-toggleable__content {max-height: 200px;max-width: 100%;overflow: auto;}#sk-f724af24-293f-464b-895a-92af03e7a7fb input.sk-toggleable__control:checked~label.sk-toggleable__label-arrow:before {content: \"▾\";}#sk-f724af24-293f-464b-895a-92af03e7a7fb div.sk-estimator input.sk-toggleable__control:checked~label.sk-toggleable__label {background-color: #d4ebff;}#sk-f724af24-293f-464b-895a-92af03e7a7fb div.sk-label input.sk-toggleable__control:checked~label.sk-toggleable__label {background-color: #d4ebff;}#sk-f724af24-293f-464b-895a-92af03e7a7fb input.sk-hidden--visually {border: 0;clip: rect(1px 1px 1px 1px);clip: rect(1px, 1px, 1px, 1px);height: 1px;margin: -1px;overflow: hidden;padding: 0;position: absolute;width: 1px;}#sk-f724af24-293f-464b-895a-92af03e7a7fb div.sk-estimator {font-family: monospace;background-color: #f0f8ff;border: 1px dotted black;border-radius: 0.25em;box-sizing: border-box;margin-bottom: 0.5em;}#sk-f724af24-293f-464b-895a-92af03e7a7fb div.sk-estimator:hover {background-color: #d4ebff;}#sk-f724af24-293f-464b-895a-92af03e7a7fb div.sk-parallel-item::after {content: \"\";width: 100%;border-bottom: 1px solid gray;flex-grow: 1;}#sk-f724af24-293f-464b-895a-92af03e7a7fb div.sk-label:hover label.sk-toggleable__label {background-color: #d4ebff;}#sk-f724af24-293f-464b-895a-92af03e7a7fb div.sk-serial::before {content: \"\";position: absolute;border-left: 1px solid gray;box-sizing: border-box;top: 2em;bottom: 0;left: 50%;}#sk-f724af24-293f-464b-895a-92af03e7a7fb div.sk-serial {display: flex;flex-direction: column;align-items: center;background-color: white;padding-right: 0.2em;padding-left: 0.2em;}#sk-f724af24-293f-464b-895a-92af03e7a7fb div.sk-item {z-index: 1;}#sk-f724af24-293f-464b-895a-92af03e7a7fb div.sk-parallel {display: flex;align-items: stretch;justify-content: center;background-color: white;}#sk-f724af24-293f-464b-895a-92af03e7a7fb div.sk-parallel::before {content: \"\";position: absolute;border-left: 1px solid gray;box-sizing: border-box;top: 2em;bottom: 0;left: 50%;}#sk-f724af24-293f-464b-895a-92af03e7a7fb div.sk-parallel-item {display: flex;flex-direction: column;position: relative;background-color: white;}#sk-f724af24-293f-464b-895a-92af03e7a7fb div.sk-parallel-item:first-child::after {align-self: flex-end;width: 50%;}#sk-f724af24-293f-464b-895a-92af03e7a7fb div.sk-parallel-item:last-child::after {align-self: flex-start;width: 50%;}#sk-f724af24-293f-464b-895a-92af03e7a7fb div.sk-parallel-item:only-child::after {width: 0;}#sk-f724af24-293f-464b-895a-92af03e7a7fb div.sk-dashed-wrapped {border: 1px dashed gray;margin: 0 0.4em 0.5em 0.4em;box-sizing: border-box;padding-bottom: 0.4em;background-color: white;position: relative;}#sk-f724af24-293f-464b-895a-92af03e7a7fb div.sk-label label {font-family: monospace;font-weight: bold;background-color: white;display: inline-block;line-height: 1.2em;}#sk-f724af24-293f-464b-895a-92af03e7a7fb div.sk-label-container {position: relative;z-index: 2;text-align: center;}#sk-f724af24-293f-464b-895a-92af03e7a7fb div.sk-container {/* jupyter's `normalize.less` sets `[hidden] { display: none; }` but bootstrap.min.css set `[hidden] { display: none !important; }` so we also need the `!important` here to be able to override the default hidden behavior on the sphinx rendered scikit-learn.org. See: https://github.com/scikit-learn/scikit-learn/issues/21755 */display: inline-block !important;position: relative;}#sk-f724af24-293f-464b-895a-92af03e7a7fb div.sk-text-repr-fallback {display: none;}</style><div id=\"sk-f724af24-293f-464b-895a-92af03e7a7fb\" class=\"sk-top-container\"><div class=\"sk-text-repr-fallback\"><pre>Pipeline(steps=[(&#x27;preprocess&#x27;,\n",
       "                 ColumnTransformer(remainder=&#x27;passthrough&#x27;,\n",
       "                                   transformers=[(&#x27;num_tr&#x27;,\n",
       "                                                  Pipeline(steps=[(&#x27;imputer&#x27;,\n",
       "                                                                   SimpleImputer()),\n",
       "                                                                  (&#x27;scaler&#x27;,\n",
       "                                                                   StandardScaler())]),\n",
       "                                                  &lt;sklearn.compose._column_transformer.make_column_selector object at 0x17de92dc0&gt;),\n",
       "                                                 (&#x27;cat_tr&#x27;,\n",
       "                                                  OneHotEncoder(handle_unknown=&#x27;ignore&#x27;),\n",
       "                                                  &lt;sklearn.compose._column_transformer.make_column_selector object at 0x17de92310&gt;)])),\n",
       "                (&#x27;Classify&#x27;, SGDClassifier())])</pre><b>Please rerun this cell to show the HTML repr or trust the notebook.</b></div><div class=\"sk-container\" hidden><div class=\"sk-item sk-dashed-wrapped\"><div class=\"sk-label-container\"><div class=\"sk-label sk-toggleable\"><input class=\"sk-toggleable__control sk-hidden--visually\" id=\"c5438a74-4fd4-4084-b7f4-18cea3cedca2\" type=\"checkbox\" ><label for=\"c5438a74-4fd4-4084-b7f4-18cea3cedca2\" class=\"sk-toggleable__label sk-toggleable__label-arrow\">Pipeline</label><div class=\"sk-toggleable__content\"><pre>Pipeline(steps=[(&#x27;preprocess&#x27;,\n",
       "                 ColumnTransformer(remainder=&#x27;passthrough&#x27;,\n",
       "                                   transformers=[(&#x27;num_tr&#x27;,\n",
       "                                                  Pipeline(steps=[(&#x27;imputer&#x27;,\n",
       "                                                                   SimpleImputer()),\n",
       "                                                                  (&#x27;scaler&#x27;,\n",
       "                                                                   StandardScaler())]),\n",
       "                                                  &lt;sklearn.compose._column_transformer.make_column_selector object at 0x17de92dc0&gt;),\n",
       "                                                 (&#x27;cat_tr&#x27;,\n",
       "                                                  OneHotEncoder(handle_unknown=&#x27;ignore&#x27;),\n",
       "                                                  &lt;sklearn.compose._column_transformer.make_column_selector object at 0x17de92310&gt;)])),\n",
       "                (&#x27;Classify&#x27;, SGDClassifier())])</pre></div></div></div><div class=\"sk-serial\"><div class=\"sk-item sk-dashed-wrapped\"><div class=\"sk-label-container\"><div class=\"sk-label sk-toggleable\"><input class=\"sk-toggleable__control sk-hidden--visually\" id=\"5f460218-3abd-4ad8-8b21-0284e0072ceb\" type=\"checkbox\" ><label for=\"5f460218-3abd-4ad8-8b21-0284e0072ceb\" class=\"sk-toggleable__label sk-toggleable__label-arrow\">preprocess: ColumnTransformer</label><div class=\"sk-toggleable__content\"><pre>ColumnTransformer(remainder=&#x27;passthrough&#x27;,\n",
       "                  transformers=[(&#x27;num_tr&#x27;,\n",
       "                                 Pipeline(steps=[(&#x27;imputer&#x27;, SimpleImputer()),\n",
       "                                                 (&#x27;scaler&#x27;, StandardScaler())]),\n",
       "                                 &lt;sklearn.compose._column_transformer.make_column_selector object at 0x17de92dc0&gt;),\n",
       "                                (&#x27;cat_tr&#x27;,\n",
       "                                 OneHotEncoder(handle_unknown=&#x27;ignore&#x27;),\n",
       "                                 &lt;sklearn.compose._column_transformer.make_column_selector object at 0x17de92310&gt;)])</pre></div></div></div><div class=\"sk-parallel\"><div class=\"sk-parallel-item\"><div class=\"sk-item\"><div class=\"sk-label-container\"><div class=\"sk-label sk-toggleable\"><input class=\"sk-toggleable__control sk-hidden--visually\" id=\"d14e08c5-748e-42e9-b0fa-dfbcc8bbff12\" type=\"checkbox\" ><label for=\"d14e08c5-748e-42e9-b0fa-dfbcc8bbff12\" class=\"sk-toggleable__label sk-toggleable__label-arrow\">num_tr</label><div class=\"sk-toggleable__content\"><pre>&lt;sklearn.compose._column_transformer.make_column_selector object at 0x17de92dc0&gt;</pre></div></div></div><div class=\"sk-serial\"><div class=\"sk-item\"><div class=\"sk-serial\"><div class=\"sk-item\"><div class=\"sk-estimator sk-toggleable\"><input class=\"sk-toggleable__control sk-hidden--visually\" id=\"b3850ba1-8bbc-4c06-9a3d-ebd00c370f93\" type=\"checkbox\" ><label for=\"b3850ba1-8bbc-4c06-9a3d-ebd00c370f93\" class=\"sk-toggleable__label sk-toggleable__label-arrow\">SimpleImputer</label><div class=\"sk-toggleable__content\"><pre>SimpleImputer()</pre></div></div></div><div class=\"sk-item\"><div class=\"sk-estimator sk-toggleable\"><input class=\"sk-toggleable__control sk-hidden--visually\" id=\"21e439c8-b023-48af-8bd5-bd1a8e6a772d\" type=\"checkbox\" ><label for=\"21e439c8-b023-48af-8bd5-bd1a8e6a772d\" class=\"sk-toggleable__label sk-toggleable__label-arrow\">StandardScaler</label><div class=\"sk-toggleable__content\"><pre>StandardScaler()</pre></div></div></div></div></div></div></div></div><div class=\"sk-parallel-item\"><div class=\"sk-item\"><div class=\"sk-label-container\"><div class=\"sk-label sk-toggleable\"><input class=\"sk-toggleable__control sk-hidden--visually\" id=\"17d9749f-09c2-4182-be01-39760538b70c\" type=\"checkbox\" ><label for=\"17d9749f-09c2-4182-be01-39760538b70c\" class=\"sk-toggleable__label sk-toggleable__label-arrow\">cat_tr</label><div class=\"sk-toggleable__content\"><pre>&lt;sklearn.compose._column_transformer.make_column_selector object at 0x17de92310&gt;</pre></div></div></div><div class=\"sk-serial\"><div class=\"sk-item\"><div class=\"sk-estimator sk-toggleable\"><input class=\"sk-toggleable__control sk-hidden--visually\" id=\"1ecbdc25-0f1b-499e-8a3a-cf66a5ce8755\" type=\"checkbox\" ><label for=\"1ecbdc25-0f1b-499e-8a3a-cf66a5ce8755\" class=\"sk-toggleable__label sk-toggleable__label-arrow\">OneHotEncoder</label><div class=\"sk-toggleable__content\"><pre>OneHotEncoder(handle_unknown=&#x27;ignore&#x27;)</pre></div></div></div></div></div></div><div class=\"sk-parallel-item\"><div class=\"sk-item\"><div class=\"sk-label-container\"><div class=\"sk-label sk-toggleable\"><input class=\"sk-toggleable__control sk-hidden--visually\" id=\"134bec2c-caaa-4fd6-8a6e-01c171d14687\" type=\"checkbox\" ><label for=\"134bec2c-caaa-4fd6-8a6e-01c171d14687\" class=\"sk-toggleable__label sk-toggleable__label-arrow\">remainder</label><div class=\"sk-toggleable__content\"><pre>[]</pre></div></div></div><div class=\"sk-serial\"><div class=\"sk-item\"><div class=\"sk-estimator sk-toggleable\"><input class=\"sk-toggleable__control sk-hidden--visually\" id=\"9eaa0137-46ea-498d-a80b-73848ef19b99\" type=\"checkbox\" ><label for=\"9eaa0137-46ea-498d-a80b-73848ef19b99\" class=\"sk-toggleable__label sk-toggleable__label-arrow\">passthrough</label><div class=\"sk-toggleable__content\"><pre>passthrough</pre></div></div></div></div></div></div></div></div><div class=\"sk-item\"><div class=\"sk-estimator sk-toggleable\"><input class=\"sk-toggleable__control sk-hidden--visually\" id=\"f78ad4e6-2935-44a8-8665-aa41208e40d4\" type=\"checkbox\" ><label for=\"f78ad4e6-2935-44a8-8665-aa41208e40d4\" class=\"sk-toggleable__label sk-toggleable__label-arrow\">SGDClassifier</label><div class=\"sk-toggleable__content\"><pre>SGDClassifier()</pre></div></div></div></div></div></div></div>"
      ],
      "text/plain": [
       "Pipeline(steps=[('preprocess',\n",
       "                 ColumnTransformer(remainder='passthrough',\n",
       "                                   transformers=[('num_tr',\n",
       "                                                  Pipeline(steps=[('imputer',\n",
       "                                                                   SimpleImputer()),\n",
       "                                                                  ('scaler',\n",
       "                                                                   StandardScaler())]),\n",
       "                                                  <sklearn.compose._column_transformer.make_column_selector object at 0x17de92dc0>),\n",
       "                                                 ('cat_tr',\n",
       "                                                  OneHotEncoder(handle_unknown='ignore'),\n",
       "                                                  <sklearn.compose._column_transformer.make_column_selector object at 0x17de92310>)])),\n",
       "                ('Classify', SGDClassifier())])"
      ]
     },
     "execution_count": 44,
     "metadata": {},
     "output_type": "execute_result"
    }
   ],
   "source": [
    "# import pdb\n",
    "# pdb.set_trace()\n",
    "\n",
    "pipe.fit(X_train, y_train)"
   ]
  },
  {
   "cell_type": "code",
   "execution_count": null,
   "id": "fe1d6389",
   "metadata": {},
   "outputs": [],
   "source": []
  },
  {
   "cell_type": "code",
   "execution_count": null,
   "id": "ad70e763",
   "metadata": {},
   "outputs": [],
   "source": []
  }
 ],
 "metadata": {
  "kernelspec": {
   "display_name": "Python 3 (ipykernel)",
   "language": "python",
   "name": "python3"
  },
  "language_info": {
   "codemirror_mode": {
    "name": "ipython",
    "version": 3
   },
   "file_extension": ".py",
   "mimetype": "text/x-python",
   "name": "python",
   "nbconvert_exporter": "python",
   "pygments_lexer": "ipython3",
   "version": "3.8.12"
  },
  "toc": {
   "base_numbering": 1,
   "nav_menu": {},
   "number_sections": true,
   "sideBar": true,
   "skip_h1_title": false,
   "title_cell": "Table of Contents",
   "title_sidebar": "Contents",
   "toc_cell": false,
   "toc_position": {},
   "toc_section_display": true,
   "toc_window_display": false
  }
 },
 "nbformat": 4,
 "nbformat_minor": 5
}
